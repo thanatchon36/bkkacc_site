{
 "cells": [
  {
   "cell_type": "code",
   "execution_count": 125,
   "metadata": {},
   "outputs": [],
   "source": [
    "import datetime\n",
    "import pandas as pd\n",
    "from dateutil.relativedelta import *"
   ]
  },
  {
   "cell_type": "code",
   "execution_count": 132,
   "metadata": {},
   "outputs": [],
   "source": []
  },
  {
   "cell_type": "code",
   "execution_count": 150,
   "metadata": {},
   "outputs": [
    {
     "output_type": "execute_result",
     "data": {
      "text/plain": "[]"
     },
     "metadata": {},
     "execution_count": 150
    }
   ],
   "source": []
  },
  {
   "cell_type": "code",
   "execution_count": 149,
   "metadata": {},
   "outputs": [],
   "source": [
    "start_date = datetime.datetime(2020, 1, 1)\n",
    "end_date = datetime.datetime(2020, 12, 31)\n",
    "\n",
    "date_range = pd.date_range(start_date, end_date).tolist()\n",
    "date_range = map(lambda x: x.date(), date_range)\n",
    "\n",
    "noti_date = 31\n",
    "def filter_date(date):\n",
    "    max_date = datetime.datetime(date.year, date.month, 1) + relativedelta(months=1) - relativedelta(days=1)\n",
    "    max_date = max_date.day\n",
    "\n",
    "    if  noti_date >= max_date:\n",
    "        correct_date = max_date\n",
    "    else:\n",
    "        correct_date = noti_date\n",
    "\n",
    "    if date.day == correct_date:\n",
    "        return True\n",
    "    else:\n",
    "        return False\n",
    "\n",
    "date_range = list(filter(filter_date,date_range))\n",
    "\n",
    "\n",
    "\n"
   ]
  },
  {
   "cell_type": "code",
   "execution_count": 148,
   "metadata": {},
   "outputs": [
    {
     "output_type": "stream",
     "name": "stdout",
     "text": "2020-01-31\n2020-02-29\n2020-03-31\n2020-04-30\n2020-05-31\n2020-06-30\n2020-07-31\n2020-08-31\n2020-09-30\n2020-10-31\n2020-11-30\n2020-12-31\n"
    }
   ],
   "source": [
    "for each_2 in date_range:\n",
    "    print(each_2)"
   ]
  },
  {
   "cell_type": "code",
   "execution_count": null,
   "metadata": {},
   "outputs": [],
   "source": []
  },
  {
   "cell_type": "code",
   "execution_count": 53,
   "metadata": {},
   "outputs": [
    {
     "output_type": "stream",
     "name": "stdout",
     "text": "<class 'datetime.date'>\n<class 'datetime.date'>\n<class 'datetime.date'>\n<class 'datetime.date'>\n<class 'datetime.date'>\n<class 'datetime.date'>\n<class 'datetime.date'>\n<class 'datetime.date'>\n<class 'datetime.date'>\n<class 'datetime.date'>\n<class 'datetime.date'>\n"
    }
   ],
   "source": [
    "for each in mydates:\n",
    "    # print(each.date().day)\n",
    "    # print(each.date())\n",
    "    print(type(each))\n",
    "    filter()\n"
   ]
  },
  {
   "cell_type": "code",
   "execution_count": 51,
   "metadata": {},
   "outputs": [
    {
     "output_type": "execute_result",
     "data": {
      "text/plain": "<map at 0x1197f1c18>"
     },
     "metadata": {},
     "execution_count": 51
    }
   ],
   "source": [
    "mydates"
   ]
  },
  {
   "cell_type": "code",
   "execution_count": 60,
   "metadata": {},
   "outputs": [],
   "source": [
    "test_list = [1,2,3,4,5]\n",
    "\n",
    "def fil_test(num):\n",
    "    if num == 1:\n",
    "        return True\n",
    "    else:\n",
    "        return False\n",
    "\n",
    "test_list = list(filter(fil_test,test_list))"
   ]
  },
  {
   "cell_type": "code",
   "execution_count": 61,
   "metadata": {},
   "outputs": [
    {
     "output_type": "execute_result",
     "data": {
      "text/plain": "[1]"
     },
     "metadata": {},
     "execution_count": 61
    }
   ],
   "source": [
    "test_list"
   ]
  },
  {
   "cell_type": "code",
   "execution_count": null,
   "metadata": {},
   "outputs": [],
   "source": []
  }
 ],
 "metadata": {
  "language_info": {
   "codemirror_mode": {
    "name": "ipython",
    "version": 3
   },
   "file_extension": ".py",
   "mimetype": "text/x-python",
   "name": "python",
   "nbconvert_exporter": "python",
   "pygments_lexer": "ipython3",
   "version": "3.7.2-final"
  },
  "orig_nbformat": 2,
  "kernelspec": {
   "name": "py36",
   "display_name": "py36"
  }
 },
 "nbformat": 4,
 "nbformat_minor": 2
}